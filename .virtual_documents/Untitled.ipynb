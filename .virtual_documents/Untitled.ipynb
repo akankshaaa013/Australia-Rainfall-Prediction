import pandas as pd
import numpy as np
import matplotlib.pyplot as plt
%matplotlib inline

import seaborn as sns
sns.set_style('whitegrid')

import os
import warnings
warnings.filterwarnings('ignore')


filepath = "https://cf-courses-data.s3.us.cloud-object-storage.appdomain.cloud/IBMDeveloperSkillsNetwork-ML0101EN-SkillUp/labs/ML-FinalAssignment/Weather_Data.csv"


df = pd.read_csv(filepath)
df.head()


df.info()


df.describe().round(2)


df.columns


df.isna().sum()


sns.histplot(x = df['MinTemp'])
sns.histplot(x = df['MaxTemp'])
sns.histplot(x = df['Sunshine'])
sns.histplot(x = df['Rainfall'])
sns.histplot(x = df['WindSpeed9am'])
sns.histplot(x = df['WindSpeed3pm'])








con = df[['MinTemp', 'MaxTemp', 'Rainfall', 'Evaporation', 'Sunshine',
    'WindGustSpeed', 'WindSpeed9am', 'WindSpeed3pm', 'Humidity9am', 
    'Humidity3pm', 'Pressure9am', 'Pressure3pm', 'Cloud9am', 
    'Cloud3pm', 'Temp9am', 'Temp3pm']].corr().round(3)
con


sns.heatmap(con)


sns.pairplot(df)



