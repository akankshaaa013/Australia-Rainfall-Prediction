import pandas as pd
import numpy as np
import matplotlib.pyplot as plt
%matplotlib inline

import seaborn as sns
sns.set_style('whitegrid')

import os
import warnings
warnings.filterwarnings('ignore')

from sklearn.model_selection import train_test_split
from sklearn.metrics import f1_score, mean_squared_error, accuracy_score, roc_auc_score, jaccard_score
from sklearn.linear_model import LogisticRegression
from sklearn.neighbors import KNeighborsClassifier
from sklearn.tree import DecisionTreeClassifier
from sklearn.svm import SVC


filepath = "https://cf-courses-data.s3.us.cloud-object-storage.appdomain.cloud/IBMDeveloperSkillsNetwork-ML0101EN-SkillUp/labs/ML-FinalAssignment/Weather_Data.csv"


df = pd.read_csv(filepath)
df.head()


df.shape


df.info()


df.describe().round(2)


df.columns


df.isna().sum()


cols = ['WindSpeed9am', 'WindSpeed3pm', 'Humidity9am', 'Humidity3pm', 'Pressure9am', 'Pressure3pm']
fig, axes = plt.subplots(3, 2, figsize=(15,10))
axes = axes.flatten()

for i, col in enumerate(cols):
    sns.histplot(x = df[col], ax = axes[i], hue = df["RainToday"], kde = True)
    axes[i].set_title(f"Distribution of {col}")
plt.tight_layout()


cols = ["Rainfall", "Sunshine", "Evaporation", "WindGustSpeed", "Cloud9am", "Cloud3pm", "Temp9am", "Temp3pm", "MaxTemp"]
fig, axes = plt.subplots(3, 3, figsize=(15,10))
axes = axes.flatten()

for i, col in enumerate(cols):
    sns.histplot(x = df[col], ax = axes[i], kde = True, hue = df["RainToday"])
    axes[i].set_title(f"Distribution of {col}")
plt.tight_layout()


sns.scatterplot(x='MaxTemp', y='Evaporation', data=df)


con = df[['MinTemp', 'MaxTemp', 'Rainfall', 'Evaporation', 'Sunshine',
    'WindGustSpeed', 'WindSpeed9am', 'WindSpeed3pm', 'Humidity9am', 
    'Humidity3pm', 'Pressure9am', 'Pressure3pm', 'Cloud9am', 
    'Cloud3pm', 'Temp9am', 'Temp3pm']].corr().round(3)
con


plt.figure(figsize=(8,8))
sns.heatmap(con, annot=True, cbar=False);


sns.pairplot(df, hue="RainToday", diag_kind = "hist");





df.head(10)


df.drop(columns=["Date"], inplace=True)


df_dummy = pd.get_dummies(data=df, columns=["WindDir9am","WindDir3pm","WindGustDir","RainToday"])
df_dummy.head()


df_dummy.replace(["Yes", "No"], [1, 0], inplace=True)


df_dummy = df_dummy.astype('float')


X = df_dummy.drop(columns=["RainTomorrow"])
Y = df_dummy["RainTomorrow"]


train_x, test_x, train_y, test_y = train_test_split(X, Y, test_size = 0.25, random_state = 763)


print("Training Set: ", train_x.shape)
print("Testing Set: ", test_x.shape)


regr = LogisticRegression(solver='liblinear')
regr.fit(train_x, train_y)


y_hat = regr.predict(test_x)
y_hat[:5]


accuracy_score(test_y, y_hat)


jaccard_score(test_y, y_hat)


f1_score(test_y, y_hat)


score_df = pd.DataFrame([accuracy_score(test_y, y_hat), jaccard_score(test_y, y_hat), f1_score(test_y, y_hat)], index = ["accuracy_score", "jaccard_score", "f1_score"], columns=["Logistic Regression"])
score_df


knn = KNeighborsClassifier(n_neighbors = 4, n_jobs = -1)
knn.fit(train_x, train_y)


y_hat = knn.predict(test_x)
y_hat[:5]


accuracy_score(test_y, y_hat)


jaccard_score(test_y, y_hat)


f1_score(test_y, y_hat)


score_df["K Neigbor"] = [accuracy_score(test_y, y_hat), jaccard_score(test_y, y_hat), f1_score(test_y, y_hat)]


mtree = DecisionTreeClassifier(max_depth = 4)
mtree.fit(train_x, train_y)


y_hat = mtree.predict(test_x)
y_hat[:5]


accuracy_score(test_y, y_hat)


jaccard_score(test_y, y_hat)


f1_score(test_y, y_hat)


score_df["Decision Tree"] = [accuracy_score(test_y, y_hat), jaccard_score(test_y, y_hat), f1_score(test_y, y_hat)]


svm = SVC(C=2, kernel="sigmoid", gamma="auto")
svm.fit(train_x, train_y)


y_hat = svm.predict(test_x)
y_hat[:5]


accuracy_score(test_y, y_hat)


jaccard_score(test_y, y_hat)


f1_score(test_y, y_hat)


score_df["SVM"] = [accuracy_score(test_y, y_hat), jaccard_score(test_y, y_hat), f1_score(test_y, y_hat)]


score_df = score_df.T
score_df


score_df = score_df.reset_index().rename({"index": "Model"}, axis=1)
score_df


cols = ["accuracy_score", "jaccard_score", "f1_score"]
fig, axes = plt.subplots(1, 3, figsize=(13,5), sharey=True)
axes = axes.flatten()

for i, col in enumerate(cols):
    sns.barplot(data = score_df, x = "Model", y = col, ax = axes[i])
    axes[i].set_title(f"{col}")

    for p in axes[i].patches:
        height = p.get_height()
        axes[i].text(p.get_x() + p.get_width() / 2., height, f'{height:.2f}', 
                     ha='center', va='bottom', fontsize=10, color='black')
plt.tight_layout()






